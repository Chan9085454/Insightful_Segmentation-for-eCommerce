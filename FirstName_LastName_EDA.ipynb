{
 "cells": [
  {
   "cell_type": "markdown",
   "id": "bdc09b75",
   "metadata": {},
   "source": [
    "# Task 1: Exploratory Data Analysis (EDA) and Business Insights"
   ]
  },
  {
   "cell_type": "markdown",
   "id": "cf112e5f",
   "metadata": {},
   "source": [
    "### 1.1 Load Data and Explore the Datasets"
   ]
  },
  {
   "cell_type": "code",
   "execution_count": 1,
   "id": "f5b07dee",
   "metadata": {},
   "outputs": [],
   "source": [
    "# Import necessary libraries for performing tasks\n",
    "import pandas as pd\n",
    "import numpy as np\n",
    "import matplotlib.pyplot as plt\n",
    "import seaborn as sns"
   ]
  },
  {
   "cell_type": "code",
   "execution_count": 2,
   "id": "25d020eb",
   "metadata": {},
   "outputs": [
    {
     "name": "stdout",
     "output_type": "stream",
     "text": [
      "Dataset shape : (200, 4)\n",
      "Dataset shape : (100, 4)\n",
      "Dataset shape : (1000, 7)\n"
     ]
    }
   ],
   "source": [
    "# load datasets\n",
    "customers = pd.read_csv(r'C:\\Users\\hp\\Downloads\\Assignment_datasets_Customers\\Customers.csv')\n",
    "products = pd.read_csv(r'C:\\Users\\hp\\Downloads\\Assignment_datasets_Products\\Products.csv')\n",
    "transactions = pd.read_csv(r'C:\\Users\\hp\\Downloads\\Assignment_datasets_Transactions\\Transactions.csv')\n",
    "\n",
    "print(f\"Dataset shape : {customers.shape}\")\n",
    "\n",
    "print(f\"Dataset shape : {products.shape}\")\n",
    "\n",
    "print(f\"Dataset shape : {transactions.shape}\")\n"
   ]
  },
  {
   "cell_type": "code",
   "execution_count": 3,
   "id": "97ad43d6",
   "metadata": {},
   "outputs": [
    {
     "name": "stdout",
     "output_type": "stream",
     "text": [
      "  CustomerID        CustomerName         Region  SignupDate\n",
      "0      C0001    Lawrence Carroll  South America  2022-07-10\n",
      "1      C0002      Elizabeth Lutz           Asia  2022-02-13\n",
      "2      C0003      Michael Rivera  South America  2024-03-07\n",
      "3      C0004  Kathleen Rodriguez  South America  2022-10-09\n",
      "4      C0005         Laura Weber           Asia  2022-08-15\n"
     ]
    }
   ],
   "source": [
    "print(customers.head())"
   ]
  },
  {
   "cell_type": "code",
   "execution_count": 4,
   "id": "1ed381bc",
   "metadata": {},
   "outputs": [
    {
     "name": "stdout",
     "output_type": "stream",
     "text": [
      "  ProductID              ProductName     Category   Price\n",
      "0      P001     ActiveWear Biography        Books  169.30\n",
      "1      P002    ActiveWear Smartwatch  Electronics  346.30\n",
      "2      P003  ComfortLiving Biography        Books   44.12\n",
      "3      P004            BookWorld Rug   Home Decor   95.69\n",
      "4      P005          TechPro T-Shirt     Clothing  429.31\n"
     ]
    }
   ],
   "source": [
    "print(products.head())"
   ]
  },
  {
   "cell_type": "code",
   "execution_count": 5,
   "id": "26a2538a",
   "metadata": {
    "scrolled": false
   },
   "outputs": [
    {
     "name": "stdout",
     "output_type": "stream",
     "text": [
      "   ProductID              ProductName     Category   Price   Company_Name  \\\n",
      "0       P001     ActiveWear Biography        Books  169.30     ActiveWear   \n",
      "1       P002    ActiveWear Smartwatch  Electronics  346.30     ActiveWear   \n",
      "2       P003  ComfortLiving Biography        Books   44.12  ComfortLiving   \n",
      "3       P004            BookWorld Rug   Home Decor   95.69      BookWorld   \n",
      "4       P005          TechPro T-Shirt     Clothing  429.31        TechPro   \n",
      "..       ...                      ...          ...     ...            ...   \n",
      "95      P096     SoundWave Headphones  Electronics  307.47      SoundWave   \n",
      "96      P097       BookWorld Cookbook        Books  319.34      BookWorld   \n",
      "97      P098         SoundWave Laptop  Electronics  299.93      SoundWave   \n",
      "98      P099   SoundWave Mystery Book        Books  354.29      SoundWave   \n",
      "99      P100        HomeSense Sweater     Clothing  126.34      HomeSense   \n",
      "\n",
      "    Product_Name  \n",
      "0      Biography  \n",
      "1     Smartwatch  \n",
      "2      Biography  \n",
      "3            Rug  \n",
      "4        T-Shirt  \n",
      "..           ...  \n",
      "95    Headphones  \n",
      "96      Cookbook  \n",
      "97        Laptop  \n",
      "98  Mystery Book  \n",
      "99       Sweater  \n",
      "\n",
      "[100 rows x 6 columns]\n"
     ]
    }
   ],
   "source": [
    "# Split ProductName into Company_Name and Product_Name\n",
    "df_products = pd.DataFrame(products)\n",
    "\n",
    "df_products[['Company_Name', 'Product_Name']] = df_products['ProductName'].str.split(' ', n=1, expand=True)\n",
    "\n",
    "print(df_products)"
   ]
  },
  {
   "cell_type": "code",
   "execution_count": 6,
   "id": "5311abe0",
   "metadata": {},
   "outputs": [
    {
     "name": "stdout",
     "output_type": "stream",
     "text": [
      "  TransactionID CustomerID ProductID      TransactionDate  Quantity  \\\n",
      "0        T00001      C0199      P067  2024-08-25 12:38:23         1   \n",
      "1        T00112      C0146      P067  2024-05-27 22:23:54         1   \n",
      "2        T00166      C0127      P067  2024-04-25 07:38:55         1   \n",
      "3        T00272      C0087      P067  2024-03-26 22:55:37         2   \n",
      "4        T00363      C0070      P067  2024-03-21 15:10:10         3   \n",
      "\n",
      "   TotalValue   Price  \n",
      "0      300.68  300.68  \n",
      "1      300.68  300.68  \n",
      "2      300.68  300.68  \n",
      "3      601.36  300.68  \n",
      "4      902.04  300.68  \n"
     ]
    }
   ],
   "source": [
    "print(transactions.head())"
   ]
  },
  {
   "cell_type": "code",
   "execution_count": 7,
   "id": "2897d345",
   "metadata": {},
   "outputs": [
    {
     "name": "stdout",
     "output_type": "stream",
     "text": [
      "    TransactionID CustomerID ProductID      TransactionDate  Quantity  \\\n",
      "0          T00001      C0199      P067  2024-08-25 12:38:23         1   \n",
      "1          T00112      C0146      P067  2024-05-27 22:23:54         1   \n",
      "2          T00166      C0127      P067  2024-04-25 07:38:55         1   \n",
      "3          T00272      C0087      P067  2024-03-26 22:55:37         2   \n",
      "4          T00363      C0070      P067  2024-03-21 15:10:10         3   \n",
      "..            ...        ...       ...                  ...       ...   \n",
      "995        T00496      C0118      P037  2024-10-24 08:30:27         1   \n",
      "996        T00759      C0059      P037  2024-06-04 02:15:24         3   \n",
      "997        T00922      C0018      P037  2024-04-05 13:05:32         4   \n",
      "998        T00959      C0115      P037  2024-09-29 10:16:02         2   \n",
      "999        T00992      C0024      P037  2024-04-21 10:52:24         1   \n",
      "\n",
      "     TotalValue   Price Transaction_Date Transaction_Time  \n",
      "0        300.68  300.68       2024-08-25         12:38:23  \n",
      "1        300.68  300.68       2024-05-27         22:23:54  \n",
      "2        300.68  300.68       2024-04-25         07:38:55  \n",
      "3        601.36  300.68       2024-03-26         22:55:37  \n",
      "4        902.04  300.68       2024-03-21         15:10:10  \n",
      "..          ...     ...              ...              ...  \n",
      "995      459.86  459.86       2024-10-24         08:30:27  \n",
      "996     1379.58  459.86       2024-06-04         02:15:24  \n",
      "997     1839.44  459.86       2024-04-05         13:05:32  \n",
      "998      919.72  459.86       2024-09-29         10:16:02  \n",
      "999      459.86  459.86       2024-04-21         10:52:24  \n",
      "\n",
      "[1000 rows x 9 columns]\n"
     ]
    }
   ],
   "source": [
    "# Split TransactionDate into Transaction_Date and Transaction_Time\n",
    "df_transactions = pd.DataFrame(transactions)\n",
    "df_transactions[['Transaction_Date', 'Transaction_Time']] = df_transactions['TransactionDate'].str.split(' ', expand=True)\n",
    "print(df_transactions)"
   ]
  },
  {
   "cell_type": "markdown",
   "id": "4b50702d",
   "metadata": {},
   "source": [
    "### 1.2 Data Cleaning and Preprocessing"
   ]
  },
  {
   "cell_type": "code",
   "execution_count": 8,
   "id": "e691daa0",
   "metadata": {},
   "outputs": [
    {
     "name": "stdout",
     "output_type": "stream",
     "text": [
      "<class 'pandas.core.frame.DataFrame'>\n",
      "RangeIndex: 200 entries, 0 to 199\n",
      "Data columns (total 4 columns):\n",
      " #   Column        Non-Null Count  Dtype \n",
      "---  ------        --------------  ----- \n",
      " 0   CustomerID    200 non-null    object\n",
      " 1   CustomerName  200 non-null    object\n",
      " 2   Region        200 non-null    object\n",
      " 3   SignupDate    200 non-null    object\n",
      "dtypes: object(4)\n",
      "memory usage: 6.4+ KB\n",
      "None\n",
      "\n",
      "\n",
      "<class 'pandas.core.frame.DataFrame'>\n",
      "RangeIndex: 100 entries, 0 to 99\n",
      "Data columns (total 4 columns):\n",
      " #   Column       Non-Null Count  Dtype  \n",
      "---  ------       --------------  -----  \n",
      " 0   ProductID    100 non-null    object \n",
      " 1   ProductName  100 non-null    object \n",
      " 2   Category     100 non-null    object \n",
      " 3   Price        100 non-null    float64\n",
      "dtypes: float64(1), object(3)\n",
      "memory usage: 3.3+ KB\n",
      "None\n",
      "\n",
      "\n",
      "<class 'pandas.core.frame.DataFrame'>\n",
      "RangeIndex: 1000 entries, 0 to 999\n",
      "Data columns (total 7 columns):\n",
      " #   Column           Non-Null Count  Dtype  \n",
      "---  ------           --------------  -----  \n",
      " 0   TransactionID    1000 non-null   object \n",
      " 1   CustomerID       1000 non-null   object \n",
      " 2   ProductID        1000 non-null   object \n",
      " 3   TransactionDate  1000 non-null   object \n",
      " 4   Quantity         1000 non-null   int64  \n",
      " 5   TotalValue       1000 non-null   float64\n",
      " 6   Price            1000 non-null   float64\n",
      "dtypes: float64(2), int64(1), object(4)\n",
      "memory usage: 54.8+ KB\n",
      "None\n"
     ]
    }
   ],
   "source": [
    "# Check for missing values and data types\n",
    "print(customers.info())\n",
    "print(\"\\n\")\n",
    "print(products.info())\n",
    "print(\"\\n\")\n",
    "print(transactions.info())\n"
   ]
  },
  {
   "cell_type": "code",
   "execution_count": 9,
   "id": "4ff70c65",
   "metadata": {},
   "outputs": [
    {
     "name": "stdout",
     "output_type": "stream",
     "text": [
      "0\n",
      "\n",
      "\n",
      "0\n",
      "\n",
      "\n",
      "0\n"
     ]
    }
   ],
   "source": [
    "# Check for duplicates\n",
    "print(customers.duplicated().sum())\n",
    "print(\"\\n\")\n",
    "print(products.duplicated().sum())\n",
    "print(\"\\n\")\n",
    "print(transactions.duplicated().sum())"
   ]
  },
  {
   "cell_type": "code",
   "execution_count": 10,
   "id": "abfb991d",
   "metadata": {},
   "outputs": [],
   "source": [
    "# Handle missing values\n",
    "customers = customers.dropna()  \n",
    "products = products.dropna() \n",
    "transactions = transactions.dropna() "
   ]
  },
  {
   "cell_type": "markdown",
   "id": "fde05c0b",
   "metadata": {},
   "source": [
    "### 1.3 Exploratory Data Analysis (EDA)"
   ]
  },
  {
   "cell_type": "code",
   "execution_count": 11,
   "id": "72926805",
   "metadata": {},
   "outputs": [
    {
     "data": {
      "image/png": "[encoded data removed]",
      "text/plain": [
       "<Figure size 640x480 with 1 Axes>"
      ]
     },
     "metadata": {},
     "output_type": "display_data"
    }
   ],
   "source": [
    "# 1. Customers Dataset\n",
    "sns.countplot(data=customers, x='Region')\n",
    "plt.title('Number of Customers per Region')\n",
    "plt.show()"
   ]
  },
  {
   "cell_type": "code",
   "execution_count": 12,
   "id": "4f1a7e1b",
   "metadata": {},
   "outputs": [
    {
     "data": {
      "image/png": "[encoded data removed]",
      "text/plain": [
       "<Figure size 640x480 with 1 Axes>"
      ]
     },
     "metadata": {},
     "output_type": "display_data"
    }
   ],
   "source": [
    "# 2. Products Dataset\n",
    "sns.countplot(data=products, x='Category')\n",
    "plt.title('Number of Products per Category')\n",
    "plt.show()"
   ]
  },
  {
   "cell_type": "code",
   "execution_count": 13,
   "id": "8c448cc2",
   "metadata": {},
   "outputs": [
    {
     "data": {
      "image/png": "[encoded data removed]",
      "text/plain": [
       "<Figure size 640x480 with 1 Axes>"
      ]
     },
     "metadata": {},
     "output_type": "display_data"
    }
   ],
   "source": [
    "# 3. Transactions Dataset\n",
    "sns.histplot(transactions['TotalValue'], bins=30)\n",
    "plt.title('Distribution of Transaction Values')\n",
    "plt.show()"
   ]
  },
  {
   "cell_type": "code",
   "execution_count": 14,
   "id": "ba3355b8",
   "metadata": {},
   "outputs": [
    {
     "data": {
      "image/png": "[encoded data removed]",
      "text/plain": [
       "<Figure size 640x480 with 1 Axes>"
      ]
     },
     "metadata": {},
     "output_type": "display_data"
    }
   ],
   "source": [
    "# 4. Number of transactions per customer\n",
    "transactions_per_customer = transactions.groupby('CustomerID').size()\n",
    "sns.histplot(transactions_per_customer, bins=30)\n",
    "plt.title('Number of Transactions per Customer')\n",
    "plt.show()"
   ]
  },
  {
   "cell_type": "markdown",
   "id": "8335ffde",
   "metadata": {},
   "source": [
    "### 1.4 Deriving Business Insights"
   ]
  },
  {
   "cell_type": "markdown",
   "id": "73ce3de3",
   "metadata": {},
   "source": [
    "#### Insight 1:\n",
    "South America has the highest number of customers, making it the most significant market for the business. Focusing on this region through targeted marketing and promotional efforts could maximize revenue. Offering region-specific discounts and loyalty programs may further strength customer engagement and retention in South America."
   ]
  },
  {
   "cell_type": "markdown",
   "id": "1e19b9f8",
   "metadata": {},
   "source": [
    "#### Insight 2:\n",
    "Among the product categories, Electronics shows the highest demand, followed closely by Clothing. This indicates a clear preference for these categories. The company could consider expanding the product range or introducing premium options in these categories to capture more customer interest and boost sales.\n",
    "\n"
   ]
  },
  {
   "cell_type": "markdown",
   "id": "e17abf2f",
   "metadata": {},
   "source": [
    "#### Insight 3:\n",
    "Europe has the lowest customer count compared to other regions, suggesting an untapped or underperforming market. Introducing region-specific strategies, such as promotional campaigns or localized product offerings, may help attract more customers from Europe and balance regional sales distribution.\n",
    "\n"
   ]
  },
  {
   "cell_type": "markdown",
   "id": "213fa99f",
   "metadata": {},
   "source": [
    "#### Insight 4:\n",
    "Most transactions involve 2-4 items per purchase, indicating that customers prefer small to medium-sized purchases. Encouraging larger transactions through bundled offers, discounts on bulk purchases, or incentives for higher spending can help increase the average transaction value and revenue.\n"
   ]
  },
  {
   "cell_type": "markdown",
   "id": "978d4457",
   "metadata": {},
   "source": [
    "#### Insight 5:\n",
    "Books and Home Decor have relatively low demand compared to other categories. The company could explore strategies to boost sales in these categories, such as targeted advertising, product bundling, or limited-time offers. Understanding customer preferences through surveys or feedback could also help identify areas for improvement and growth in these categories.\n",
    "\n"
   ]
  },
  {
   "cell_type": "code",
   "execution_count": null,
   "id": "07ae7893",
   "metadata": {},
   "outputs": [],
   "source": []
  }
 ],
 "metadata": {
  "kernelspec": {
   "display_name": "Python 3 (ipykernel)",
   "language": "python",
   "name": "python3"
  },
  "language_info": {
   "codemirror_mode": {
    "name": "ipython",
    "version": 3
   },
   "file_extension": ".py",
   "mimetype": "text/x-python",
   "name": "python",
   "nbconvert_exporter": "python",
   "pygments_lexer": "ipython3",
   "version": "3.11.5"
  }
 },
 "nbformat": 4,
 "nbformat_minor": 5
}
