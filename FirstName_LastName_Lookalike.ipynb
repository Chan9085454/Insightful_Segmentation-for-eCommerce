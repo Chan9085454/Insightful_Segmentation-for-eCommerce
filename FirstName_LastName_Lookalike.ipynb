{
 "cells": [
  {
   "cell_type": "markdown",
   "id": "36dc3bf5",
   "metadata": {},
   "source": [
    "# Task 2: Lookalike Model"
   ]
  },
  {
   "cell_type": "markdown",
   "id": "66962132",
   "metadata": {},
   "source": [
    "### 2.1 Data Preprocessing"
   ]
  },
  {
   "cell_type": "code",
   "execution_count": 1,
   "id": "04b39117",
   "metadata": {},
   "outputs": [],
   "source": [
    "# Importing necessary libraries\n",
    "import pandas as pd\n",
    "import numpy as np\n",
    "import matplotlib.pyplot as plt\n",
    "import seaborn as sns"
   ]
  },
  {
   "cell_type": "code",
   "execution_count": 2,
   "id": "6b1090e5",
   "metadata": {},
   "outputs": [],
   "source": [
    "# load datasets\n",
    "customers = pd.read_csv(r'C:\\Users\\hp\\Downloads\\Assignment_datasets_Customers\\Customers.csv')\n",
    "products = pd.read_csv(r'C:\\Users\\hp\\Downloads\\Assignment_datasets_Products\\Products.csv')\n",
    "transactions = pd.read_csv(r'C:\\Users\\hp\\Downloads\\Assignment_datasets_Transactions\\Transactions.csv')\n",
    "\n"
   ]
  },
  {
   "cell_type": "code",
   "execution_count": 3,
   "id": "b764b997",
   "metadata": {},
   "outputs": [
    {
     "name": "stdout",
     "output_type": "stream",
     "text": [
      "  TransactionID CustomerID ProductID      TransactionDate  Quantity  \\\n",
      "0        T00001      C0199      P067  2024-08-25 12:38:23         1   \n",
      "1        T00112      C0146      P067  2024-05-27 22:23:54         1   \n",
      "2        T00166      C0127      P067  2024-04-25 07:38:55         1   \n",
      "3        T00272      C0087      P067  2024-03-26 22:55:37         2   \n",
      "4        T00363      C0070      P067  2024-03-21 15:10:10         3   \n",
      "\n",
      "   TotalValue  Price_x     CustomerName         Region  SignupDate  \\\n",
      "0      300.68   300.68   Andrea Jenkins         Europe  2022-12-03   \n",
      "1      300.68   300.68  Brittany Harvey           Asia  2024-09-04   \n",
      "2      300.68   300.68  Kathryn Stevens         Europe  2024-04-04   \n",
      "3      601.36   300.68  Travis Campbell  South America  2024-04-11   \n",
      "4      902.04   300.68    Timothy Perez         Europe  2022-03-15   \n",
      "\n",
      "                       ProductName     Category  Price_y  \n",
      "0  ComfortLiving Bluetooth Speaker  Electronics   300.68  \n",
      "1  ComfortLiving Bluetooth Speaker  Electronics   300.68  \n",
      "2  ComfortLiving Bluetooth Speaker  Electronics   300.68  \n",
      "3  ComfortLiving Bluetooth Speaker  Electronics   300.68  \n",
      "4  ComfortLiving Bluetooth Speaker  Electronics   300.68  \n"
     ]
    }
   ],
   "source": [
    "# Merging datasets to get customer and product information in one DataFrame\n",
    "merged_data = pd.merge(transactions, customers, on='CustomerID', how='inner')\n",
    "merged_data = pd.merge(merged_data, products, on='ProductID', how='inner')\n",
    "\n",
    "# Check the merged data\n",
    "print(merged_data.head())\n"
   ]
  },
  {
   "cell_type": "markdown",
   "id": "4e3542ca",
   "metadata": {},
   "source": [
    "### 2.2 Feature Engineering"
   ]
  },
  {
   "cell_type": "code",
   "execution_count": 4,
   "id": "d380db4e",
   "metadata": {},
   "outputs": [
    {
     "name": "stdout",
     "output_type": "stream",
     "text": [
      "  CustomerID  TotalValue  Quantity     Price_x\n",
      "0      C0001     3354.52        12  278.334000\n",
      "1      C0002     1862.74        10  208.920000\n",
      "2      C0003     2725.38        14  195.707500\n",
      "3      C0004     5354.88        23  240.636250\n",
      "4      C0005     2034.24         7  291.603333\n"
     ]
    }
   ],
   "source": [
    "# Aggregate data to get total spent by each customer\n",
    "customer_profile = merged_data.groupby('CustomerID').agg({\n",
    "    'TotalValue': 'sum',\n",
    "    'Quantity': 'sum',\n",
    "    'Price_x': 'mean'  \n",
    "}).reset_index()\n",
    "\n",
    "print(customer_profile.head())\n"
   ]
  },
  {
   "cell_type": "markdown",
   "id": "7371a329",
   "metadata": {},
   "source": [
    "### 2.3 Building the Lookalike Model"
   ]
  },
  {
   "cell_type": "code",
   "execution_count": 5,
   "id": "58b1da57",
   "metadata": {},
   "outputs": [
    {
     "name": "stdout",
     "output_type": "stream",
     "text": [
      "Customer C0001: [('C0103', 0.9975729385618538), ('C0092', 0.9968787968825864), ('C0135', 0.9927364238882177)]\n",
      "Customer C0002: [('C0029', 0.9998543931340029), ('C0077', 0.9961038168882547), ('C0157', 0.9954784900159904)]\n",
      "Customer C0003: [('C0111', 0.9984874468302141), ('C0190', 0.9966561574371822), ('C0038', 0.9901332836738033)]\n",
      "Customer C0004: [('C0165', 0.9983897071764074), ('C0162', 0.9980867096016259), ('C0075', 0.996932345616167)]\n",
      "Customer C0005: [('C0167', 0.9999721868436701), ('C0020', 0.99971426883456), ('C0128', 0.9987615592886807)]\n",
      "Customer C0006: [('C0168', 0.9976122332196319), ('C0196', 0.9950250564515252), ('C0187', 0.9947524750205508)]\n",
      "Customer C0007: [('C0125', 0.9998486580402707), ('C0089', 0.99834375759003), ('C0085', 0.9960335186380587)]\n",
      "Customer C0008: [('C0084', 0.9960866913262758), ('C0113', 0.9958170325568012), ('C0017', 0.993173208985394)]\n",
      "Customer C0009: [('C0130', 0.9999651017117013), ('C0128', 0.9985963548763069), ('C0192', 0.9985908489461927)]\n",
      "Customer C0010: [('C0176', 0.9994511608148322), ('C0055', 0.9938405529191887), ('C0174', 0.9927444551206617)]\n",
      "Customer C0011: [('C0023', 0.9991440715038482), ('C0139', 0.986516222171265), ('C0100', 0.9850016770913713)]\n",
      "Customer C0012: [('C0101', 0.9999587274161243), ('C0093', 0.999622095179217), ('C0153', 0.9994774664125201)]\n",
      "Customer C0013: [('C0021', 0.9996872905926021), ('C0141', 0.9977202433858624), ('C0059', 0.9974582304694569)]\n",
      "Customer C0014: [('C0097', 0.9987194918246621), ('C0043', 0.997028656874292), ('C0032', 0.9962680059155485)]\n",
      "Customer C0015: [('C0058', 0.9988538808142926), ('C0186', 0.9942941310767258), ('C0131', 0.9925119270458044)]\n",
      "Customer C0016: [('C0040', 0.9996938077843687), ('C0107', 0.998853319148621), ('C0066', 0.9979863451056683)]\n",
      "Customer C0017: [('C0113', 0.9996650162383117), ('C0084', 0.9947513763012199), ('C0008', 0.993173208985394)]\n",
      "Customer C0018: [('C0041', 0.9939468680584729), ('C0068', 0.9928505306919447), ('C0004', 0.9899798786769836)]\n",
      "Customer C0019: [('C0166', 0.9972891718322159), ('C0031', 0.9942266796584924), ('C0088', 0.988374423934766)]\n",
      "Customer C0020: [('C0005', 0.99971426883456), ('C0128', 0.9995779165091033), ('C0167', 0.9995081896622053)]\n"
     ]
    }
   ],
   "source": [
    "from sklearn.metrics.pairwise import cosine_similarity\n",
    "from sklearn.preprocessing import StandardScaler\n",
    "\n",
    "# Normalize the data\n",
    "scaler = StandardScaler()\n",
    "customer_profile_scaled = scaler.fit_transform(customer_profile[['TotalValue', 'Quantity', 'Price_x']])\n",
    "\n",
    "# Calculate cosine similarity\n",
    "similarity_matrix = cosine_similarity(customer_profile_scaled)\n",
    "\n",
    "# Create a function to get top 3 lookalike customers for a given customer\n",
    "def get_lookalike_customers(customer_id, top_n=3):\n",
    "    customer_idx = customer_profile[customer_profile['CustomerID'] == customer_id].index[0]\n",
    "    similarity_scores = list(enumerate(similarity_matrix[customer_idx]))\n",
    "    sorted_similar_customers = sorted(similarity_scores, key=lambda x: x[1], reverse=True)[1:top_n+1]\n",
    "    \n",
    "    return [(customer_profile.iloc[i[0]]['CustomerID'], i[1]) for i in sorted_similar_customers]\n",
    "\n",
    "# Get lookalikes for the first 20 customers\n",
    "lookalike_results = {}\n",
    "for customer_id in customer_profile['CustomerID'].head(20):\n",
    "    lookalike_results[customer_id] = get_lookalike_customers(customer_id)\n",
    "\n",
    "# Display the results\n",
    "for cust_id, lookalikes in lookalike_results.items():\n",
    "    print(f\"Customer {cust_id}: {lookalikes}\")\n"
   ]
  },
  {
   "cell_type": "markdown",
   "id": "e6a73213",
   "metadata": {},
   "source": [
    "### 2.4 Saving Results"
   ]
  },
  {
   "cell_type": "code",
   "execution_count": 6,
   "id": "3739686d",
   "metadata": {},
   "outputs": [],
   "source": [
    "import csv\n",
    "\n",
    "# Save the lookalike results to a CSV file\n",
    "with open('Lookalike.csv', 'w', newline='') as file:\n",
    "    writer = csv.writer(file)\n",
    "    writer.writerow(['CustomerID', 'Lookalike_Customers_and_Similarity_Scores'])\n",
    "    \n",
    "    for cust_id, lookalikes in lookalike_results.items():\n",
    "        writer.writerow([cust_id, lookalikes])\n"
   ]
  },
  {
   "cell_type": "code",
   "execution_count": null,
   "id": "35a7117d",
   "metadata": {},
   "outputs": [],
   "source": []
  }
 ],
 "metadata": {
  "kernelspec": {
   "display_name": "Python 3 (ipykernel)",
   "language": "python",
   "name": "python3"
  },
  "language_info": {
   "codemirror_mode": {
    "name": "ipython",
    "version": 3
   },
   "file_extension": ".py",
   "mimetype": "text/x-python",
   "name": "python",
   "nbconvert_exporter": "python",
   "pygments_lexer": "ipython3",
   "version": "3.11.5"
  }
 },
 "nbformat": 4,
 "nbformat_minor": 5
}
